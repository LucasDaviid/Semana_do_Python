{
 "cells": [
  {
   "cell_type": "markdown",
   "metadata": {},
   "source": [
    "## Automação de processos"
   ]
  },
  {
   "cell_type": "markdown",
   "metadata": {},
   "source": [
    "#### Problemas a serem resolvidos\n",
    "\n",
    "- Buscar automaticamente os dados das ações\n",
    "- Gerar as análises de forma automática\n",
    "- Enviar e-mail para o gestor\n"
   ]
  },
  {
   "cell_type": "markdown",
   "metadata": {},
   "source": [
    "### Passo 1 - Buscar automaticamente os dados das ações"
   ]
  },
  {
   "cell_type": "code",
   "execution_count": 3,
   "metadata": {},
   "outputs": [],
   "source": [
    "# !pip install yfinance PETR4.SA\n",
    "import yfinance"
   ]
  },
  {
   "cell_type": "code",
   "execution_count": null,
   "metadata": {},
   "outputs": [],
   "source": [
    "codigo = input(\"Digite o código da ação desejada: \")\n",
    "\n",
    "dados = yfinance.Ticker(codigo).history(\"6mo\")\n",
    "fechamento = dados.Close\n",
    "fechamento\n"
   ]
  },
  {
   "cell_type": "markdown",
   "metadata": {},
   "source": [
    "### Passo 2 - Gerar as análises de forma automática\n",
    "\n",
    "- Análise dos últimos 6 messes\n",
    "- Cotação máxima\n",
    "- Cotação mínima\n",
    "- Cotação atual"
   ]
  },
  {
   "cell_type": "code",
   "execution_count": null,
   "metadata": {},
   "outputs": [],
   "source": [
    "maxima = fechamento.max()\n",
    "minima = fechamento.min()\n",
    "atual = fechamento[-1]"
   ]
  },
  {
   "cell_type": "markdown",
   "metadata": {},
   "source": [
    "### Passo 3 - Enviar e-mail para o gestor\n",
    "\n",
    "- Abrir nova aba no navegador (ctrl+T)\n",
    "- Digitar endereço do gmail e dar um enter\n",
    "- Clicar no botão de escrever\n",
    "- Colocar e-mail do destinatário (tab)\n",
    "- Colocar assunto (tab)\n",
    "- Colocar mensagem\n",
    "- Clicar no botão de enviar"
   ]
  },
  {
   "cell_type": "code",
   "execution_count": 8,
   "metadata": {},
   "outputs": [],
   "source": [
    "# !pip install pyautogui\n",
    "import pyautogui\n",
    "import pyperclip"
   ]
  },
  {
   "cell_type": "code",
   "execution_count": null,
   "metadata": {},
   "outputs": [],
   "source": [
    "# Abrir nova aba\n",
    "pyautogui.hotkey(\"ctrl\", \"t\")\n",
    "\n",
    "# digitar endereço e dar enter\n",
    "pyperclip.copy(\"www.gmail.com\")\n",
    "pyautogui.hotkey(\"ctrl\", \"v\")\n",
    "pyautogui.hotkey(\"enter\")\n",
    "\n",
    "# Clicar em escrever\n",
    "pyautogui.click(x=2029, y=226)\n",
    "\n",
    "# Colocar e-mail\n",
    "pyperclip.copy(\"gestor@gmail.com\")\n",
    "pyautogui.hotkey(\"ctrl\", \"v\")\n",
    "pyautogui.hotkey(\"tab\")\n",
    "\n",
    "# Colocar assunto\n",
    "pyperclip.copy(\"Análises diárias\")\n",
    "pyautogui.hotkey(\"ctrl\", \"v\")\n",
    "pyautogui.hotkey(\"tab\")\n",
    "\n",
    "# Mensagem\n",
    "mensagem = f\"\"\"\n",
    "Prezado gestor,\n",
    "\n",
    "Seguem análises diárias dos últimos 6 meses da ação {codigo}:\n",
    "\n",
    "Cotação máxima - R$ {round(maxima,2)}\n",
    "Cotação mínima - R$ {round(minima,2)}\n",
    "Cotação atual - R$ {round(atual,2)}\n",
    "\n",
    "Qualquer dúvida, fico à disposição!\n",
    "\"\"\"\n",
    "pyperclip.copy(mensagem)\n",
    "pyautogui.hotkey(\"ctrl\", \"v\")\n",
    "\n",
    "# Enviar\n",
    "pyautogui.click(x=3120, y=977)"
   ]
  }
 ],
 "metadata": {
  "kernelspec": {
   "display_name": "Python 3",
   "language": "python",
   "name": "python3"
  },
  "language_info": {
   "codemirror_mode": {
    "name": "ipython",
    "version": 3
   },
   "file_extension": ".py",
   "mimetype": "text/x-python",
   "name": "python",
   "nbconvert_exporter": "python",
   "pygments_lexer": "ipython3",
   "version": "3.11.3"
  }
 },
 "nbformat": 4,
 "nbformat_minor": 2
}
