{
 "cells": [
  {
   "cell_type": "markdown",
   "metadata": {},
   "source": [
    "## Automação de processos"
   ]
  },
  {
   "cell_type": "markdown",
   "metadata": {},
   "source": [
    "#### Problemas a serem resolvidos\n",
    "\n",
    "- Buscar automaticamente os dados das ações\n",
    "- Gerar as análises de forma automática\n",
    "- Eviar e-mail para o gestor\n"
   ]
  },
  {
   "cell_type": "markdown",
   "metadata": {},
   "source": [
    "### Passo 1 - Buscar automaticamente os dados das ações"
   ]
  },
  {
   "cell_type": "code",
   "execution_count": 3,
   "metadata": {},
   "outputs": [],
   "source": [
    "# !pip install yfinance PETR4.SA\n",
    "import yfinance"
   ]
  },
  {
   "cell_type": "code",
   "execution_count": null,
   "metadata": {},
   "outputs": [],
   "source": [
    "codigo = input(\"Digite o código da ação desejada: \")\n",
    "\n",
    "dados = yfinance.Ticker(codigo).history(\"6mo\")\n",
    "fechamento = dados.Close\n",
    "fechamento\n"
   ]
  },
  {
   "cell_type": "markdown",
   "metadata": {},
   "source": [
    "### Passo 2 - Gerar as análises de forma automática\n",
    "\n",
    "- Análise dos últimos 6 messes\n",
    "- Cotação máxima\n",
    "- Cotação mínima\n",
    "- Cotação atual"
   ]
  },
  {
   "cell_type": "code",
   "execution_count": null,
   "metadata": {},
   "outputs": [],
   "source": [
    "maxima = fechamento.max()\n",
    "minima = fechamento.min()\n",
    "atual = fechamento[-1]"
   ]
  }
 ],
 "metadata": {
  "kernelspec": {
   "display_name": "Python 3",
   "language": "python",
   "name": "python3"
  },
  "language_info": {
   "codemirror_mode": {
    "name": "ipython",
    "version": 3
   },
   "file_extension": ".py",
   "mimetype": "text/x-python",
   "name": "python",
   "nbconvert_exporter": "python",
   "pygments_lexer": "ipython3",
   "version": "3.11.3"
  }
 },
 "nbformat": 4,
 "nbformat_minor": 2
}
